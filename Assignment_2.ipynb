{
  "nbformat": 4,
  "nbformat_minor": 0,
  "metadata": {
    "colab": {
      "name": "Assignment-2.ipynb",
      "provenance": []
    },
    "kernelspec": {
      "name": "python3",
      "display_name": "Python 3"
    },
    "language_info": {
      "name": "python"
    }
  },
  "cells": [
    {
      "cell_type": "markdown",
      "source": [
        "This is your assignment on conditional statement and looping"
      ],
      "metadata": {
        "id": "RWGPvgMGhZo5"
      }
    },
    {
      "cell_type": "markdown",
      "source": [
        "**Problem-1**<br>\n",
        "Write a small program to check a number is divisible by 7 or not"
      ],
      "metadata": {
        "id": "IKuXztS-h62c"
      }
    },
    {
      "cell_type": "code",
      "source": [
        "# Your code goes here\n",
        "n=int(input('Enter n:'))\n",
        "\n",
        "if(n%7==0):\n",
        "  print(n,'is divisible by 7')\n",
        "else:\n",
        "  print(n,'is not divisible by 7')"
      ],
      "metadata": {
        "id": "tmLkoOqthcy-",
        "colab": {
          "base_uri": "https://localhost:8080/"
        },
        "outputId": "600526de-de8a-4414-9315-1d61f2f1e125"
      },
      "execution_count": 46,
      "outputs": [
        {
          "output_type": "stream",
          "name": "stdout",
          "text": [
            "Enter n:15\n",
            "15 is not divisible by 7\n"
          ]
        }
      ]
    },
    {
      "cell_type": "markdown",
      "source": [
        "**Problem-2**<br>\n",
        "If a number is divisible by either 5 or 7, then we will call it a 'five-or-seven' number.<br> \n",
        "Write down a program to check if a number is 'five-or-seven' number or not."
      ],
      "metadata": {
        "id": "aKEBothyhZy8"
      }
    },
    {
      "cell_type": "code",
      "source": [
        "# Your code goes here\n",
        "n=int(input('Enter n:'))\n",
        "\n",
        "if(n%7==0) or (n%5==0):\n",
        "  print(n,'is five-or-seven number')\n",
        "else:\n",
        "  print(n,'is not five-or-seven number')"
      ],
      "metadata": {
        "id": "Vv-j3UR9hd1-",
        "colab": {
          "base_uri": "https://localhost:8080/"
        },
        "outputId": "988d873f-3b9c-4a7c-c140-80a0728dbf4f"
      },
      "execution_count": 47,
      "outputs": [
        {
          "output_type": "stream",
          "name": "stdout",
          "text": [
            "Enter n:105\n",
            "105 is five-or-seven number\n"
          ]
        }
      ]
    },
    {
      "cell_type": "markdown",
      "source": [
        "**Problem-3**<br>\n",
        "Write a program to calculate the electricity bill (accept number of unit from user) according to the following criteria:<br>  \n",
        "Upto first 100 units Rs. 3 per unit.<br>\n",
        "Next 100 units Rs. 5 per unit.<br>\n",
        "Next 300 units Rs. 7 per unit.<br>\n",
        "Above that, for each unit exceeding 500, Rs. 10 per unit flat.<br>"
      ],
      "metadata": {
        "id": "Y9KxqFjxl2zt"
      }
    },
    {
      "cell_type": "code",
      "source": [
        "# Your code goes here\n",
        "#To print the Electricity Bill given units\n",
        "prev=float(input('Enter Previous reading: '))\n",
        "pread=float(input('Enter Present reading: '))\n",
        "units=pread-prev\n",
        "print('Number of Units=',units)\n",
        "if (units<=100):\n",
        "      p1= units*3\n",
        "      print(p1)\n",
        "elif (units>100 and units<=200):\n",
        "      p2=((100*3)+(units-100)*5)\n",
        "      print(p2)\n",
        "elif (units>200 and units<=500):\n",
        "      p3=((100*3)+(100*5)+(units-200)*7)\n",
        "      print(p3)\n",
        "elif (units>500):\n",
        "      p4=((100*3)+(100*5)+(300*7)+(units-500)*10);\n",
        "      print(p4)"
      ],
      "metadata": {
        "id": "f_xfH-gSnRvI",
        "colab": {
          "base_uri": "https://localhost:8080/"
        },
        "outputId": "4a3747d1-bc09-4d7b-cef9-325012408cfb"
      },
      "execution_count": 48,
      "outputs": [
        {
          "output_type": "stream",
          "name": "stdout",
          "text": [
            "Enter Previous reading: 1200\n",
            "Enter Present reading: 1520\n",
            "Number of Units= 320.0\n",
            "1640.0\n"
          ]
        }
      ]
    },
    {
      "cell_type": "markdown",
      "source": [
        "**Problem-4**<br>\n",
        "Find out sum of square of all the numbers upto 10, starting from 1"
      ],
      "metadata": {
        "id": "rLNw2lAwhZ8q"
      }
    },
    {
      "cell_type": "code",
      "source": [
        "# Your code goes here\n",
        "n=10\n",
        "s=0\n",
        "for i in range (1,n+1):\n",
        "    s=s+(i**2)\n",
        "print(s)"
      ],
      "metadata": {
        "id": "8kgqZ_x-heuw",
        "colab": {
          "base_uri": "https://localhost:8080/"
        },
        "outputId": "782dea8f-0a72-4ba6-e223-a190e917b67e"
      },
      "execution_count": 36,
      "outputs": [
        {
          "output_type": "stream",
          "name": "stdout",
          "text": [
            "385\n"
          ]
        }
      ]
    },
    {
      "cell_type": "markdown",
      "source": [
        "**Problem-5**<br>\n",
        "Find out sum of square of all the even numbers upto 10, starting from 1"
      ],
      "metadata": {
        "id": "Y-MCE0x9haiN"
      }
    },
    {
      "cell_type": "code",
      "source": [
        "# Your code goes \n",
        "s=0\n",
        "for i in range (1,5):\n",
        "    s=s+((2*i)*(2*i))\n",
        "print(s)"
      ],
      "metadata": {
        "id": "Ki_-j4Dphfkd",
        "colab": {
          "base_uri": "https://localhost:8080/"
        },
        "outputId": "90e7866b-92f1-44d3-da4a-e74118a9e093"
      },
      "execution_count": 43,
      "outputs": [
        {
          "output_type": "stream",
          "name": "stdout",
          "text": [
            "120\n"
          ]
        }
      ]
    },
    {
      "cell_type": "markdown",
      "source": [
        "**Problem-6**<br>\n",
        "Check a number is prime or not"
      ],
      "metadata": {
        "id": "Sxp-egxiha1L"
      }
    },
    {
      "cell_type": "code",
      "source": [
        "# Your code goes here\n",
        "#To Check whether the given number is prime or not\n",
        "n=int(input('Enter a number:'))\n",
        "f=0\n",
        "for i in range(2,n):\n",
        "    if(n%i==0):\n",
        "          f=1\n",
        "if (f==0):\n",
        "    print(n,'is a Prime Number')\n",
        "else:\n",
        "    print(n,'is not a Prime Number')"
      ],
      "metadata": {
        "id": "IoGNy2aMhgop",
        "colab": {
          "base_uri": "https://localhost:8080/"
        },
        "outputId": "85e36a76-e39b-418e-c020-7cf3fa8eac10"
      },
      "execution_count": 5,
      "outputs": [
        {
          "output_type": "stream",
          "name": "stdout",
          "text": [
            "Enter a number:2\n",
            "2 is a Prime Number\n"
          ]
        }
      ]
    },
    {
      "cell_type": "markdown",
      "source": [
        "**Problem-7**<br>\n",
        "Print multiplication table upto 10 starting from 1"
      ],
      "metadata": {
        "id": "ntLKcA1hha44"
      }
    },
    {
      "cell_type": "code",
      "source": [
        "# Your code goes here\n",
        "#To print a Multiplication Table\n",
        "n=int(input('Enter a number:'))\n",
        "for i in range(1,11):\n",
        "    r=n*i\n",
        "    print(n,'*',i,'=',r)"
      ],
      "metadata": {
        "id": "U5LmrwFmhiE3",
        "colab": {
          "base_uri": "https://localhost:8080/"
        },
        "outputId": "e89db459-8ebb-4c51-950a-6f9d06443565"
      },
      "execution_count": 2,
      "outputs": [
        {
          "output_type": "stream",
          "name": "stdout",
          "text": [
            "Enter a number:8\n",
            "8 * 1 = 8\n",
            "8 * 2 = 16\n",
            "8 * 3 = 24\n",
            "8 * 4 = 32\n",
            "8 * 5 = 40\n",
            "8 * 6 = 48\n",
            "8 * 7 = 56\n",
            "8 * 8 = 64\n",
            "8 * 9 = 72\n",
            "8 * 10 = 80\n"
          ]
        }
      ]
    },
    {
      "cell_type": "markdown",
      "source": [
        "**Problem-8**<br>\n",
        "Print the series of first n fibonacci numbers"
      ],
      "metadata": {
        "id": "09Fwyn_ZhbDY"
      }
    },
    {
      "cell_type": "code",
      "source": [
        "# Your code goes here\n",
        "#To find the fibonacci series\n",
        "n=int(input('Enter a number'))\n",
        "f1=0\n",
        "f2=1\n",
        "print(f1)\n",
        "print(f2)\n",
        "for i in range(3,n+1):\n",
        "    f3=f1+f2\n",
        "    print(f3)\n",
        "    f1=f2\n",
        "    f2=f3"
      ],
      "metadata": {
        "id": "mo2otdwfhi3J",
        "colab": {
          "base_uri": "https://localhost:8080/"
        },
        "outputId": "48e5a7f7-f6d0-4c43-d6d5-a9578a0e7d62"
      },
      "execution_count": 1,
      "outputs": [
        {
          "output_type": "stream",
          "name": "stdout",
          "text": [
            "Enter a number8\n",
            "0\n",
            "1\n",
            "1\n",
            "2\n",
            "3\n",
            "5\n",
            "8\n",
            "13\n"
          ]
        }
      ]
    }
  ]
}